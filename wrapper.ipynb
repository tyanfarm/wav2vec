{
 "cells": [
  {
   "cell_type": "code",
   "execution_count": 1,
   "id": "9f516982",
   "metadata": {},
   "outputs": [
    {
     "name": "stderr",
     "output_type": "stream",
     "text": [
      "c:\\Tyan\\wav2vec\\myenv\\lib\\site-packages\\tqdm\\auto.py:21: TqdmWarning: IProgress not found. Please update jupyter and ipywidgets. See https://ipywidgets.readthedocs.io/en/stable/user_install.html\n",
      "  from .autonotebook import tqdm as notebook_tqdm\n"
     ]
    }
   ],
   "source": [
    "import torch\n",
    "import numpy as np\n",
    "from transformers import Wav2Vec2Processor, Wav2Vec2ForCTC\n",
    "from scipy.spatial.distance import cosine\n",
    "import librosa\n",
    "from dataclasses import dataclass\n",
    "from typing import List, Dict, Tuple, Optional\n",
    "import warnings\n",
    "warnings.filterwarnings('ignore')"
   ]
  },
  {
   "cell_type": "code",
   "execution_count": 2,
   "id": "254bc602",
   "metadata": {},
   "outputs": [],
   "source": [
    "class PhonemeExtractor:\n",
    "    \"\"\"Class để load model một lần và tái sử dụng\"\"\"\n",
    "    \n",
    "    def __init__(self, model_name: str = \"bookbot/wav2vec2-ljspeech-gruut\", device: str = None):\n",
    "        \"\"\"\n",
    "        Initialize model and processor once\n",
    "        \n",
    "        Args:\n",
    "            model_name: HuggingFace model name\n",
    "            device: 'cuda' or 'cpu', auto-detect if None\n",
    "        \"\"\"\n",
    "        print(f\"Loading model {model_name}...\")\n",
    "        \n",
    "        # Auto-detect device\n",
    "        if device is None:\n",
    "            self.device = torch.device('cuda' if torch.cuda.is_available() else 'cpu')\n",
    "        else:\n",
    "            self.device = torch.device(device)\n",
    "        \n",
    "        # Load processor và model một lần\n",
    "        self.processor = Wav2Vec2Processor.from_pretrained(model_name)\n",
    "        self.model = Wav2Vec2ForCTC.from_pretrained(model_name)\n",
    "        self.model.to(self.device)\n",
    "        self.model.eval()\n",
    "        \n",
    "        print(f\"Model loaded on {self.device}\")\n",
    "    \n",
    "    def load_audio(self, audio_path: str, sr: int = 16000) -> np.ndarray:\n",
    "        \"\"\"Load audio file and resample to 16kHz.\"\"\"\n",
    "        audio, _ = librosa.load(audio_path, sr=sr)\n",
    "        return audio\n",
    "    \n",
    "    def get_phoneme_embeddings(self, audio: np.ndarray) -> Tuple[torch.Tensor, str]:\n",
    "        \"\"\"Extract phoneme-level embeddings and predicted phonemes from audio.\"\"\"\n",
    "        # Prepare input\n",
    "        inputs = self.processor(audio, sampling_rate=16000, return_tensors=\"pt\", padding=True)\n",
    "        \n",
    "        # Move inputs to device\n",
    "        inputs = {k: v.to(self.device) for k, v in inputs.items()}\n",
    "        \n",
    "        with torch.no_grad():\n",
    "            # Get hidden states (embeddings)\n",
    "            outputs = self.model(**inputs, output_hidden_states=True)\n",
    "            hidden_states = outputs.hidden_states[-1]  # Last layer\n",
    "            \n",
    "            # Get phoneme predictions\n",
    "            logits = outputs.logits\n",
    "            predicted_ids = torch.argmax(logits, dim=-1)\n",
    "            phonemes = self.processor.batch_decode(predicted_ids)[0]\n",
    "        \n",
    "        return hidden_states.squeeze(0).cpu(), phonemes\n",
    "    \n",
    "    def process_file(self, audio_path: str) -> Tuple[torch.Tensor, str]:\n",
    "        \"\"\"Load audio và extract phonemes trong một lần gọi\"\"\"\n",
    "        audio = self.load_audio(audio_path)\n",
    "        return self.get_phoneme_embeddings(audio)"
   ]
  },
  {
   "cell_type": "code",
   "execution_count": 9,
   "id": "f1187f19",
   "metadata": {},
   "outputs": [
    {
     "name": "stdout",
     "output_type": "stream",
     "text": [
      "Loading model bookbot/wav2vec2-ljspeech-gruut...\n",
      "Model loaded on cuda\n"
     ]
    }
   ],
   "source": [
    "# Cell 1: Load model một lần duy nhất (chỉ chạy 1 lần)\n",
    "extractor = PhonemeExtractor(device='cuda')  # hoặc 'cuda' nếu có GPU"
   ]
  },
  {
   "cell_type": "code",
   "execution_count": null,
   "id": "ce08d51c",
   "metadata": {},
   "outputs": [
    {
     "name": "stdout",
     "output_type": "stream",
     "text": [
      "d͡ʒæ n j u ɛ ɹ i\n"
     ]
    }
   ],
   "source": [
    "# Cell 2: Sử dụng nhiều lần mà không cần load lại\n",
    "ref_embeddings, ref_phonemes = extractor.process_file(\"./audio_files/word_january.mp3\")\n",
    "print(ref_phonemes) "
   ]
  },
  {
   "cell_type": "code",
   "execution_count": null,
   "id": "c0a32c72",
   "metadata": {},
   "outputs": [],
   "source": []
  }
 ],
 "metadata": {
  "kernelspec": {
   "display_name": "myenv",
   "language": "python",
   "name": "python3"
  },
  "language_info": {
   "codemirror_mode": {
    "name": "ipython",
    "version": 3
   },
   "file_extension": ".py",
   "mimetype": "text/x-python",
   "name": "python",
   "nbconvert_exporter": "python",
   "pygments_lexer": "ipython3",
   "version": "3.10.10"
  }
 },
 "nbformat": 4,
 "nbformat_minor": 5
}
