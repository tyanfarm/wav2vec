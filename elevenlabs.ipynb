{
 "cells": [
  {
   "cell_type": "code",
   "execution_count": 2,
   "id": "69537afd",
   "metadata": {},
   "outputs": [],
   "source": [
    "from elevenlabs.client import ElevenLabs\n",
    "from elevenlabs import VoiceSettings\n",
    "import os\n",
    "import io\n",
    "from dotenv import load_dotenv"
   ]
  },
  {
   "cell_type": "code",
   "execution_count": 3,
   "id": "67d616e8",
   "metadata": {},
   "outputs": [],
   "source": [
    "load_dotenv()\n",
    "\n",
    "ELEVENLABS_API_KEY = os.getenv(\"ELEVENLABS_API_KEY\")\n",
    "\n",
    "client = ElevenLabs(api_key=ELEVENLABS_API_KEY)"
   ]
  },
  {
   "cell_type": "code",
   "execution_count": 31,
   "id": "68370be9",
   "metadata": {},
   "outputs": [
    {
     "name": "stdout",
     "output_type": "stream",
     "text": [
      "Audio đã được lưu thành february.mp3!\n"
     ]
    }
   ],
   "source": [
    "input_text = \"february\"\n",
    "input_text = input_text.strip().replace(\".\", \"\")\n",
    "\n",
    "# Jessica - Voice ID: cgSgspJ2msm6clMCkdW9 🔇\n",
    "# Alice - Voice ID: Xb7hH8MSUJpSbSDYk0k2 🔇\n",
    "# Maria - Voice ID: SEznpiChzC8S8IDxqqR7 🔇\n",
    "# Charlotte - Voice ID: XB0fDUnXU5powFXDhCwa 🔇\n",
    "# Matilda - Voice ID: XrExE9yKIg1WjnnlVkGX ✅\n",
    "audio = client.text_to_speech.convert(\n",
    "    text=input_text,\n",
    "    voice_id=\"XrExE9yKIg1WjnnlVkGX\",\n",
    "    model_id=\"eleven_flash_v2_5\",\n",
    "    voice_settings=VoiceSettings(\n",
    "        speed=0.75,\n",
    "        stability=0.5,\n",
    "        similarity_boost=0.75,\n",
    "    )\n",
    ")\n",
    "\n",
    "# Thu thập tất cả chunks vào memory\n",
    "audio_chunks = []\n",
    "for chunk in audio:\n",
    "    if chunk:\n",
    "        audio_chunks.append(chunk)\n",
    "\n",
    "# Ghi một lần duy nhất\n",
    "with open(f\"./audio_files/elevenlabs/{input_text}.mp3\", \"wb\") as f:\n",
    "    f.write(b''.join(audio_chunks))\n",
    "\n",
    "\n",
    "print(f\"Audio đã được lưu thành {input_text}.mp3!\")"
   ]
  }
 ],
 "metadata": {
  "kernelspec": {
   "display_name": "myenv",
   "language": "python",
   "name": "python3"
  },
  "language_info": {
   "codemirror_mode": {
    "name": "ipython",
    "version": 3
   },
   "file_extension": ".py",
   "mimetype": "text/x-python",
   "name": "python",
   "nbconvert_exporter": "python",
   "pygments_lexer": "ipython3",
   "version": "3.10.10"
  }
 },
 "nbformat": 4,
 "nbformat_minor": 5
}
