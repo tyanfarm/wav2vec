{
 "cells": [
  {
   "cell_type": "code",
   "execution_count": 1,
   "id": "69537afd",
   "metadata": {},
   "outputs": [],
   "source": [
    "from elevenlabs.client import ElevenLabs\n",
    "import os"
   ]
  },
  {
   "cell_type": "code",
   "execution_count": null,
   "id": "67d616e8",
   "metadata": {},
   "outputs": [],
   "source": [
    "os.environ[\"ELEVENLABS_API_KEY\"] = \"\"\n",
    "\n",
    "client = ElevenLabs(api_key=os.environ.get(\"ELEVENLABS_API_KEY\"))"
   ]
  },
  {
   "cell_type": "code",
   "execution_count": 8,
   "id": "68370be9",
   "metadata": {},
   "outputs": [
    {
     "name": "stdout",
     "output_type": "stream",
     "text": [
      "Audio đã được lưu thành output.mp3!\n"
     ]
    }
   ],
   "source": [
    "# Chuyển text thành speech\n",
    "audio = client.text_to_speech.convert(\n",
    "    text=\"January\",\n",
    "    voice_id=\"pqHfZKP75CvOlQylNhV4\",  \n",
    "    model_id=\"eleven_flash_v2_5\"\n",
    ")\n",
    "\n",
    "# Lưu file audio\n",
    "with open(\"output.mp3\", \"wb\") as f:\n",
    "    for chunk in audio:\n",
    "        if chunk:  # Kiểm tra chunk không rỗng\n",
    "            f.write(chunk)\n",
    "    f.flush()\n",
    "\n",
    "print(\"Audio đã được lưu thành output.mp3!\")"
   ]
  }
 ],
 "metadata": {
  "kernelspec": {
   "display_name": "myenv",
   "language": "python",
   "name": "python3"
  },
  "language_info": {
   "codemirror_mode": {
    "name": "ipython",
    "version": 3
   },
   "file_extension": ".py",
   "mimetype": "text/x-python",
   "name": "python",
   "nbconvert_exporter": "python",
   "pygments_lexer": "ipython3",
   "version": "3.10.10"
  }
 },
 "nbformat": 4,
 "nbformat_minor": 5
}
