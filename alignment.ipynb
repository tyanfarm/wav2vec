{
 "cells": [
  {
   "cell_type": "code",
   "execution_count": 2,
   "id": "af360e2a",
   "metadata": {},
   "outputs": [
    {
     "data": {
      "text/plain": [
       "True"
      ]
     },
     "execution_count": 2,
     "metadata": {},
     "output_type": "execute_result"
    }
   ],
   "source": [
    "from openai import OpenAI\n",
    "import requests\n",
    "import os\n",
    "from dotenv import load_dotenv\n",
    "\n",
    "load_dotenv()"
   ]
  },
  {
   "cell_type": "code",
   "execution_count": 3,
   "id": "3f63dced",
   "metadata": {},
   "outputs": [],
   "source": [
    "OPENROUTER_API_KEY = os.getenv(\"OPENROUTER_API_KEY\")\n",
    "\n",
    "OPENROUTER_CLIENT = OpenAI(\n",
    "    base_url=\"https://openrouter.ai/api/v1\",\n",
    "    api_key=OPENROUTER_API_KEY\n",
    ")"
   ]
  },
  {
   "cell_type": "code",
   "execution_count": 23,
   "id": "fad1b0fe",
   "metadata": {},
   "outputs": [],
   "source": [
    "def call_openrouter_api(prompt: str) -> str:\n",
    "    try:\n",
    "        completion = OPENROUTER_CLIENT.chat.completions.create(\n",
    "            # model=\"deepseek/deepseek-chat-v3.1:free\",\n",
    "            model=\"openai/gpt-oss-20b:free\",\n",
    "            messages=[\n",
    "                {\n",
    "                    \"role\": \"user\",\n",
    "                    \"content\": prompt\n",
    "                }\n",
    "            ]\n",
    "        )\n",
    "\n",
    "        return completion.choices[0].message.content\n",
    "\n",
    "    except Exception as e:\n",
    "        print(f\"API called failed: {e}\")\n",
    "        return None\n",
    "    \n",
    "def call_ollama_api(prompt: str) -> str:\n",
    "    try:\n",
    "        # API endpoint của Ollama (mặc định chạy local)\n",
    "        url = \"http://192.168.50.217:11434/api/generate\"\n",
    "        \n",
    "        payload = {\n",
    "            \"model\": \"gpt-oss:120b-cloud\",\n",
    "            \"prompt\": prompt,\n",
    "            \"think\": \"medium\",\n",
    "            \"stream\": False  # Set False để nhận toàn bộ response một lần\n",
    "        }\n",
    "        \n",
    "        response = requests.post(url, json=payload)\n",
    "        response.raise_for_status()\n",
    "        \n",
    "        return response.json()[\"response\"]\n",
    "        \n",
    "    except Exception as e:\n",
    "        print(f\"API call failed: {e}\")\n",
    "        return None"
   ]
  },
  {
   "cell_type": "code",
   "execution_count": 5,
   "id": "640aadd4",
   "metadata": {},
   "outputs": [],
   "source": [
    "PROMPT = \"\"\"\n",
    "You are a linguistic alignment assistant.  \n",
    "Your task is to align each **phoneme** in the IPA transcription of a word or multi-word phrase with its corresponding **grapheme(s)** (letters) in the English spelling.  \n",
    "If multiple letters map to one phoneme (e.g., \"ch\" → \"tʃ\"), group them together.  \n",
    "If one letter contributes to multiple phonemes, repeat it as needed.  \n",
    "If the phrase has multiple words, insert an empty phoneme entry between words to mark the space.  \n",
    "Also, make sure **no letter from the original input is missing** from the output — every character (except spaces and punctuation) must appear in at least one \"letter\" field.\n",
    "\n",
    "Input:\n",
    "Word: \"{word}\"  \n",
    "Phonemes: \"{phonemes}\"\n",
    "\n",
    "Output format:\n",
    "A JSON list of objects, each with fields:\n",
    "- \"phoneme\": string\n",
    "- \"letter\": string (or letters that correspond to it)\n",
    "\n",
    "Example output:\n",
    "[\n",
    "  {{\"phoneme\": \"f\", \"letter\": \"f\"}},\n",
    "  {{\"phoneme\": \"ɛ\", \"letter\": \"e\"}},\n",
    "  {{\"phoneme\": \"b\", \"letter\": \"b\"}},\n",
    "  {{\"phoneme\": \"j\", \"letter\": \"r\"}},\n",
    "  {{\"phoneme\": \"u\", \"letter\": \"u\"}},\n",
    "  {{\"phoneme\": \"w\", \"letter\": \"a\"}},\n",
    "  {{\"phoneme\": \"ɛ\", \"letter\": \"a\"}},\n",
    "  {{\"phoneme\": \"ɹ\", \"letter\": \"r\"}},\n",
    "  {{\"phoneme\": \"i\", \"letter\": \"y\"}},\n",
    "  {{\"phoneme\": \"\", \"letter\": \"\"}},\n",
    "  {{\"phoneme\": \"s\", \"letter\": \"s\"}},\n",
    "  {{\"phoneme\": \"eɪ\", \"letter\": \"a\"}},\n",
    "  {{\"phoneme\": \"l\", \"letter\": \"le\"}},\n",
    "]\n",
    "\n",
    "Rules:\n",
    "- Use phoneme order to guide alignment, left to right.\n",
    "- Preserve duplicates if a letter contributes to multiple phonemes.\n",
    "- Do not add extra commentary — return only valid JSON. \n",
    "- Every \"letter\" value MUST be a contiguous substring of Word (case preserved) and MUST appear in Word at the specified start..end indices\n",
    "\"\"\""
   ]
  },
  {
   "cell_type": "code",
   "execution_count": null,
   "id": "f02d232a",
   "metadata": {},
   "outputs": [
    {
     "name": "stdout",
     "output_type": "stream",
     "text": [
      "[\n",
      "  {\"phoneme\": \"oʊ\", \"letter\": \"o\"},\n",
      "  {\"phoneme\": \"p\", \"letter\": \"p\"},\n",
      "  {\"phoneme\": \"ɪ\", \"letter\": \"e\"},\n",
      "  {\"phoneme\": \"n\", \"letter\": \"n\"},\n",
      "  {\"phoneme\": \"\", \"letter\": \"\"},\n",
      "  {\"phoneme\": \"ð\", \"letter\": \"th\"},\n",
      "  {\"phoneme\": \"ʌ\", \"letter\": \"e\"},\n",
      "  {\"phoneme\": \"\", \"letter\": \"\"},\n",
      "  {\"phoneme\": \"d\", \"letter\": \"d\"},\n",
      "  {\"phoneme\": \"ɔ\", \"letter\": \"oo\"},\n",
      "  {\"phoneme\": \"ɹ\", \"letter\": \"r\"}\n",
      "]\n"
     ]
    }
   ],
   "source": [
    "# result = call_openrouter_api(PROMPT.format(\n",
    "#     word=\"my voice my choice\",\n",
    "#     phonemes=\"maɪvɔɪsmaɪtʃɔɪs\"\n",
    "# ))\n",
    "\n",
    "result = call_ollama_api(PROMPT.format(\n",
    "    word=\"open the door\",\n",
    "    phonemes=\"oʊpɪnðʌdɔɹ\"\n",
    "))\n",
    "print(result)"
   ]
  },
  {
   "cell_type": "code",
   "execution_count": 28,
   "id": "47059162",
   "metadata": {},
   "outputs": [
    {
     "name": "stdout",
     "output_type": "stream",
     "text": [
      "[\n",
      "  {\"phoneme\":\"k\",\"letter\":\"c\"},\n",
      "  {\"phoneme\":\"oʊ\",\"letter\":\"o\"},\n",
      "  {\"phoneme\":\"ɑ\",\"letter\":\"o\"},\n",
      "  {\"phoneme\":\"p\",\"letter\":\"p\"},\n",
      "  {\"phoneme\":\"ɝ\",\"letter\":\"er\"},\n",
      "  {\"phoneme\":\"eɪ\",\"letter\":\"a\"},\n",
      "  {\"phoneme\":\"t\",\"letter\":\"te\"}\n",
      "]\n"
     ]
    }
   ],
   "source": [
    "result = call_ollama_api(PROMPT.format(\n",
    "    word=\"co-operate\",\n",
    "    phonemes=\"koʊɑpɝeɪt\"\n",
    "))\n",
    "print(result)"
   ]
  }
 ],
 "metadata": {
  "kernelspec": {
   "display_name": "xlsr-env",
   "language": "python",
   "name": "python3"
  },
  "language_info": {
   "codemirror_mode": {
    "name": "ipython",
    "version": 3
   },
   "file_extension": ".py",
   "mimetype": "text/x-python",
   "name": "python",
   "nbconvert_exporter": "python",
   "pygments_lexer": "ipython3",
   "version": "3.12.8"
  }
 },
 "nbformat": 4,
 "nbformat_minor": 5
}
