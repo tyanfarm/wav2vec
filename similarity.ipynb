{
 "cells": [
  {
   "cell_type": "code",
   "execution_count": 1,
   "id": "ca01b9a5",
   "metadata": {},
   "outputs": [
    {
     "name": "stderr",
     "output_type": "stream",
     "text": [
      "c:\\Tyan\\audio-files\\myenv\\lib\\site-packages\\tqdm\\auto.py:21: TqdmWarning: IProgress not found. Please update jupyter and ipywidgets. See https://ipywidgets.readthedocs.io/en/stable/user_install.html\n",
      "  from .autonotebook import tqdm as notebook_tqdm\n"
     ]
    }
   ],
   "source": [
    "import os\n",
    "import numpy as np\n",
    "import torch\n",
    "import librosa\n",
    "from transformers import Wav2Vec2Processor, Wav2Vec2Model\n",
    "import torch.nn.functional as F\n",
    "\n",
    "try:\n",
    "    from fastdtw import fastdtw\n",
    "    from scipy.spatial.distance import cosine as cosine_dist\n",
    "    USE_DTW = True\n",
    "except Exception:\n",
    "    USE_DTW = False"
   ]
  },
  {
   "cell_type": "code",
   "execution_count": 2,
   "id": "6f3cebc8",
   "metadata": {},
   "outputs": [],
   "source": [
    "# compare_wav2vec_similarity.py\n",
    "\n",
    "MODEL_NAME = \"facebook/wav2vec2-base-960h\"   # hoặc \"facebook/wav2vec2-base\"\n",
    "TARGET_SR = 16000\n",
    "\n",
    "def load_audio(path, sr=TARGET_SR):\n",
    "    y, _ = librosa.load(path, sr=sr, mono=True)\n",
    "    # chuẩn hóa biên độ để ổn định so sánh\n",
    "    if np.max(np.abs(y)) > 0:\n",
    "        y = y / np.max(np.abs(y))\n",
    "    return y\n",
    "\n",
    "@torch.no_grad()\n",
    "def wav2vec2_embeddings(waveform, processor, model, device=\"cpu\"):\n",
    "    \"\"\"\n",
    "    Trả về:\n",
    "      - emb_clip: embedding clip-level (mean-pool trên thời gian) [hidden_size]\n",
    "      - emb_frames: embedding theo frame [T, hidden_size]\n",
    "    \"\"\"\n",
    "    inputs = processor(waveform, sampling_rate=TARGET_SR, return_tensors=\"pt\", padding=False)\n",
    "    input_values = inputs.input_values.to(device)\n",
    "    out = model(input_values)\n",
    "    # last_hidden_state: [B, T, H] -> [T, H]\n",
    "    feats = out.last_hidden_state.squeeze(0).cpu()  # [T, H]\n",
    "    emb_clip = feats.mean(dim=0)                    # [H]\n",
    "    return emb_clip, feats\n",
    "\n",
    "def cosine_sim(a, b):\n",
    "    a = F.normalize(a.unsqueeze(0), dim=1)\n",
    "    b = F.normalize(b.unsqueeze(0), dim=1)\n",
    "    return float((a @ b.T).item())  # in [-1, 1]\n",
    "\n",
    "def dtw_frame_similarity(F1, F2):\n",
    "    \"\"\"\n",
    "    So sánh theo khung thời gian bằng DTW để bù nhanh/chậm.\n",
    "    Trả về khoảng cách DTW (nhỏ hơn là giống hơn).\n",
    "    \"\"\"\n",
    "    if not USE_DTW:\n",
    "        return None\n",
    "    seq1 = F1.numpy()\n",
    "    seq2 = F2.numpy()\n",
    "    # khoảng cách dùng 1 - cosine_similarity ~ cosine distance\n",
    "    dist, _ = fastdtw(seq1, seq2, dist=cosine_dist)\n",
    "    return float(dist)\n",
    "\n",
    "def cal_similarity(f1, f2, model_name=MODEL_NAME, device=None):\n",
    "    device = device or (\"cuda\" if torch.cuda.is_available() else \"cpu\")\n",
    "    print(f\"Device: {device}\")\n",
    "    print(\"Loading model...\")\n",
    "    processor = Wav2Vec2Processor.from_pretrained(model_name)\n",
    "    model = Wav2Vec2Model.from_pretrained(model_name).to(device).eval()\n",
    "\n",
    "    # Read audio\n",
    "    y1 = load_audio(f1)\n",
    "    y2 = load_audio(f2)\n",
    "    print(f\"[1] {os.path.basename(f1)}: {len(y1)/TARGET_SR:.2f}s\")\n",
    "    print(f\"[2] {os.path.basename(f2)}: {len(y2)/TARGET_SR:.2f}s\")\n",
    "\n",
    "    # Embeddings\n",
    "    emb1, F1 = wav2vec2_embeddings(y1, processor, model, device)\n",
    "    emb2, F2 = wav2vec2_embeddings(y2, processor, model, device)\n",
    "\n",
    "    # Clip-level cosine similarity\n",
    "    sim = cosine_sim(emb1, emb2)\n",
    "    print(f\"Clip cosine similarity (−1..1): {sim:.4f}\")\n",
    "\n",
    "    # Optional: DTW distance (frame-level)\n",
    "    dtw_dist = dtw_frame_similarity(F1, F2)\n",
    "    if dtw_dist is not None:\n",
    "        print(f\"Frame-level DTW cosine distance (lower = more similar): {dtw_dist:.2f}\")\n",
    "    else:\n",
    "        print(\"Install fastdtw & scipy for DTW: pip install fastdtw scipy\")"
   ]
  },
  {
   "cell_type": "code",
   "execution_count": 4,
   "id": "decb0be3",
   "metadata": {},
   "outputs": [
    {
     "name": "stdout",
     "output_type": "stream",
     "text": [
      "Device: cpu\n",
      "Loading model...\n"
     ]
    },
    {
     "name": "stderr",
     "output_type": "stream",
     "text": [
      "Some weights of Wav2Vec2Model were not initialized from the model checkpoint at facebook/wav2vec2-base-960h and are newly initialized: ['masked_spec_embed']\n",
      "You should probably TRAIN this model on a down-stream task to be able to use it for predictions and inference.\n"
     ]
    },
    {
     "name": "stdout",
     "output_type": "stream",
     "text": [
      "[1] audio_01.mp3: 3.14s\n",
      "[2] audio_04.mp3: 3.12s\n",
      "Clip cosine similarity (−1..1): 0.9842\n",
      "Frame-level DTW cosine distance (lower = more similar): 13.58\n",
      "None\n"
     ]
    }
   ],
   "source": [
    "f1 = './audio_01.mp3'  # Thay đổi đường dẫn file của bạn\n",
    "f2 = './audio_04.mp3'  # Thay đổi đường dẫn file của\n",
    "print(cal_similarity(f1, f2, model_name=MODEL_NAME))"
   ]
  }
 ],
 "metadata": {
  "kernelspec": {
   "display_name": "myenv",
   "language": "python",
   "name": "python3"
  },
  "language_info": {
   "codemirror_mode": {
    "name": "ipython",
    "version": 3
   },
   "file_extension": ".py",
   "mimetype": "text/x-python",
   "name": "python",
   "nbconvert_exporter": "python",
   "pygments_lexer": "ipython3",
   "version": "3.10.10"
  }
 },
 "nbformat": 4,
 "nbformat_minor": 5
}
