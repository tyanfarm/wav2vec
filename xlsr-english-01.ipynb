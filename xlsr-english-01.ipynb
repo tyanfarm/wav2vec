{
 "cells": [
  {
   "cell_type": "code",
   "execution_count": null,
   "id": "4a9114d7",
   "metadata": {},
   "outputs": [
    {
     "name": "stderr",
     "output_type": "stream",
     "text": [
      "c:\\Tyan\\wav2vec\\myenv\\lib\\site-packages\\tqdm\\auto.py:21: TqdmWarning: IProgress not found. Please update jupyter and ipywidgets. See https://ipywidgets.readthedocs.io/en/stable/user_install.html\n",
      "  from .autonotebook import tqdm as notebook_tqdm\n"
     ]
    }
   ],
   "source": [
    "from huggingface_hub import login\n",
    "\n",
    "login(token=\"\")"
   ]
  },
  {
   "cell_type": "code",
   "execution_count": 1,
   "id": "a244f644",
   "metadata": {},
   "outputs": [
    {
     "name": "stderr",
     "output_type": "stream",
     "text": [
      "c:\\Tyan\\wav2vec\\myenv\\lib\\site-packages\\tqdm\\auto.py:21: TqdmWarning: IProgress not found. Please update jupyter and ipywidgets. See https://ipywidgets.readthedocs.io/en/stable/user_install.html\n",
      "  from .autonotebook import tqdm as notebook_tqdm\n",
      "Device set to use cpu\n"
     ]
    }
   ],
   "source": [
    "from transformers import pipeline\n",
    "\n",
    "model = pipeline(\n",
    "  \"automatic-speech-recognition\",\n",
    "  model=\"KoelLabs/xlsr-english-01\",\n",
    "  device=\"cpu\",\n",
    ")"
   ]
  },
  {
   "cell_type": "code",
   "execution_count": 8,
   "id": "08792e7d",
   "metadata": {},
   "outputs": [
    {
     "name": "stdout",
     "output_type": "stream",
     "text": [
      "Transcription: tʃɛnjuɑɹin\n"
     ]
    }
   ],
   "source": [
    "print(\"Transcription:\", model(\"./audio_files/tly.ogg\").get(\"text\", \"\"))"
   ]
  },
  {
   "cell_type": "code",
   "execution_count": 7,
   "id": "6fa8e696",
   "metadata": {},
   "outputs": [
    {
     "name": "stdout",
     "output_type": "stream",
     "text": [
      "Transcription: dʒænjuwɛɹi\n"
     ]
    }
   ],
   "source": [
    "print(\"Transcription:\", model(\"./audio_files/word_january.mp3\").get(\"text\", \"\"))"
   ]
  },
  {
   "cell_type": "code",
   "execution_count": null,
   "id": "a62f939c",
   "metadata": {},
   "outputs": [
    {
     "name": "stdout",
     "output_type": "stream",
     "text": [
      "Transcription: dʒænjuɛɹi\n"
     ]
    }
   ],
   "source": [
    "print(\"Transcription:\", model(\"./audio_files/january_tyan1.ogg\").get(\"text\", \"\"))"
   ]
  },
  {
   "cell_type": "code",
   "execution_count": null,
   "id": "d133bfad",
   "metadata": {},
   "outputs": [
    {
     "name": "stdout",
     "output_type": "stream",
     "text": [
      "Transcription: dʒænuɝɹi\n"
     ]
    }
   ],
   "source": [
    "print(\"Transcription:\", model(\"./audio_files/january_tyan2.ogg\").get(\"text\", \"\"))"
   ]
  },
  {
   "cell_type": "code",
   "execution_count": null,
   "id": "06589ad2",
   "metadata": {},
   "outputs": [
    {
     "name": "stdout",
     "output_type": "stream",
     "text": [
      "Transcription: ɛnudɹi\n"
     ]
    }
   ],
   "source": [
    "print(\"Transcription:\", model(\"./audio_files/january_tyan3.ogg\").get(\"text\", \"\"))"
   ]
  },
  {
   "cell_type": "code",
   "execution_count": null,
   "id": "a9b3cf84",
   "metadata": {},
   "outputs": [
    {
     "name": "stdout",
     "output_type": "stream",
     "text": [
      "Transcription: dʒɛnɹi\n"
     ]
    }
   ],
   "source": [
    "print(\"Transcription:\", model(\"./audio_files/january_tyan4.ogg\").get(\"text\", \"\"))"
   ]
  },
  {
   "cell_type": "code",
   "execution_count": 6,
   "id": "e15ac661",
   "metadata": {},
   "outputs": [
    {
     "name": "stdout",
     "output_type": "stream",
     "text": [
      "Transcription: tʃæɹuɝi\n"
     ]
    }
   ],
   "source": [
    "print(\"Transcription:\", model(\"./audio_files/january_tyan5.ogg\").get(\"text\", \"\"))"
   ]
  },
  {
   "cell_type": "code",
   "execution_count": null,
   "id": "5d0e1118",
   "metadata": {},
   "outputs": [
    {
     "name": "stdout",
     "output_type": "stream",
     "text": [
      "Transcription: tʃeɪnnoʊdɝɹi\n"
     ]
    }
   ],
   "source": [
    "print(\"Transcription:\", model(\"./audio_files/january_tyan6.ogg\").get(\"text\", \"\"))"
   ]
  },
  {
   "cell_type": "code",
   "execution_count": null,
   "id": "59c74174",
   "metadata": {},
   "outputs": [
    {
     "name": "stdout",
     "output_type": "stream",
     "text": [
      "Transcription: zʌnjuadi\n"
     ]
    }
   ],
   "source": [
    "print(\"Transcription:\", model(\"./audio_files/word_january_japan1.mp3\").get(\"text\", \"\"))"
   ]
  },
  {
   "cell_type": "code",
   "execution_count": 14,
   "id": "7a74a467",
   "metadata": {},
   "outputs": [
    {
     "name": "stdout",
     "output_type": "stream",
     "text": [
      "Transcription: zɑmuɑɾi\n"
     ]
    }
   ],
   "source": [
    "print(\"Transcription:\", model(\"./audio_files/word_january_japan2.mp3\").get(\"text\", \"\"))"
   ]
  },
  {
   "cell_type": "code",
   "execution_count": 16,
   "id": "61d6b527",
   "metadata": {},
   "outputs": [
    {
     "name": "stdout",
     "output_type": "stream",
     "text": [
      "Transcription: ʒʌnwɑdi\n"
     ]
    }
   ],
   "source": [
    "print(\"Transcription:\", model(\"./audio_files/word_january_japan3.mp3\").get(\"text\", \"\"))"
   ]
  },
  {
   "cell_type": "code",
   "execution_count": null,
   "id": "a9892ae8",
   "metadata": {},
   "outputs": [],
   "source": [
    "print(\"Transcription:\", model(\"./audio_files/word_january_japan3.mp3\").get(\"text\", \"\"))"
   ]
  },
  {
   "cell_type": "code",
   "execution_count": null,
   "id": "2dfe4eb7",
   "metadata": {},
   "outputs": [
    {
     "name": "stdout",
     "output_type": "stream",
     "text": [
      "Transcription: hɛloʊθʰaɪɛnaɪsθʰumitjuəɡɛn\n"
     ]
    }
   ],
   "source": [
    "print(\"Transcription:\", model(\"./audio_files/audio_06.mp3\").get(\"text\", \"\"))"
   ]
  },
  {
   "cell_type": "code",
   "execution_count": null,
   "id": "11a9bfed",
   "metadata": {},
   "outputs": [
    {
     "name": "stdout",
     "output_type": "stream",
     "text": [
      "Transcription: hɛloʊtaɪɛnnaɪstɪmitjuʌɡɛn\n"
     ]
    }
   ],
   "source": [
    "print(\"Transcription:\", model(\"./audio_files/audio_01.mp3\").get(\"text\", \"\"))"
   ]
  },
  {
   "cell_type": "code",
   "execution_count": 16,
   "id": "4d0eb838",
   "metadata": {},
   "outputs": [
    {
     "name": "stdout",
     "output_type": "stream",
     "text": [
      "Transcription: baɪannaɪtwiɡoʊəɡɛn\n"
     ]
    }
   ],
   "source": [
    "print(\"Transcription:\", model(\"./audio_files/audio_05.mp3\").get(\"text\", \"\"))\n"
   ]
  },
  {
   "cell_type": "code",
   "execution_count": null,
   "id": "ed85795f",
   "metadata": {},
   "outputs": [
    {
     "name": "stdout",
     "output_type": "stream",
     "text": [
      "Transcription: hɑdɔtiminaɪstumitɔjuɑɡeɪn\n"
     ]
    }
   ],
   "source": [
    "print(\"Transcription:\", model(\"./audio_files/audio_japan_wrong.mp3\").get(\"text\", \"\"))"
   ]
  },
  {
   "cell_type": "code",
   "execution_count": 18,
   "id": "9d200a36",
   "metadata": {},
   "outputs": [
    {
     "name": "stdout",
     "output_type": "stream",
     "text": [
      "Transcription: hjulʊtɛnaɪstʊmitjuəɡɛn\n"
     ]
    }
   ],
   "source": [
    "print(\"Transcription:\", model(\"./audio_files/audio_russian.mp3\").get(\"text\", \"\"))"
   ]
  },
  {
   "cell_type": "code",
   "execution_count": 24,
   "id": "19fdd6ff",
   "metadata": {},
   "outputs": [
    {
     "name": "stdout",
     "output_type": "stream",
     "text": [
      "Transcription: joʊsʌpdʒoʊzoʊtoʊmɑsɛvɪtʃmɑɹtʃsɪkstinθnaɪntinoʊeɪtɑktoʊbɚfɪftinθnaɪntinnaɪnifɔɹsɚboʊkɹoʊeɪʃɪnjoʊsʌptoʊmɑʃɪvɪtʃwʌzɪnʌmɛɹɪkɪnikɑnʌmɪstɛnhɪstɔɹiɛnhuspɛʃl̩tiwʌzðiɛkɪnɑmɪkɛnsoʊʃl̩hɪstɚiʌvjuɡoʊslɑviʌ\n"
     ]
    }
   ],
   "source": [
    "print(\"Transcription:\", model(\"./audio_files/audio_16s.mp3\").get(\"text\", \"\"))"
   ]
  },
  {
   "cell_type": "code",
   "execution_count": 25,
   "id": "c67a7a91",
   "metadata": {},
   "outputs": [
    {
     "name": "stdout",
     "output_type": "stream",
     "text": [
      "Transcription: mɑɹtʃ\n"
     ]
    }
   ],
   "source": [
    "print(\"Transcription:\", model(\"./audio_files/word_march.mp3\").get(\"text\", \"\"))\n"
   ]
  }
 ],
 "metadata": {
  "kernelspec": {
   "display_name": "myenv",
   "language": "python",
   "name": "python3"
  },
  "language_info": {
   "codemirror_mode": {
    "name": "ipython",
    "version": 3
   },
   "file_extension": ".py",
   "mimetype": "text/x-python",
   "name": "python",
   "nbconvert_exporter": "python",
   "pygments_lexer": "ipython3",
   "version": "3.10.10"
  }
 },
 "nbformat": 4,
 "nbformat_minor": 5
}
