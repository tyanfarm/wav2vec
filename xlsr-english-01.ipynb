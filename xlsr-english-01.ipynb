{
 "cells": [
  {
   "cell_type": "code",
   "execution_count": null,
   "id": "4a9114d7",
   "metadata": {},
   "outputs": [],
   "source": [
    "from huggingface_hub import login\n",
    "\n",
    "login(token=\"\")"
   ]
  },
  {
   "cell_type": "code",
   "execution_count": 2,
   "id": "a244f644",
   "metadata": {},
   "outputs": [
    {
     "name": "stderr",
     "output_type": "stream",
     "text": [
      "Device set to use cuda\n"
     ]
    }
   ],
   "source": [
    "from transformers import pipeline\n",
    "\n",
    "model = pipeline(\n",
    "    \"automatic-speech-recognition\",\n",
    "    model=\"KoelLabs/xlsr-english-01\",\n",
    "    device=\"cuda\",\n",
    ")"
   ]
  },
  {
   "cell_type": "code",
   "execution_count": 3,
   "id": "08792e7d",
   "metadata": {},
   "outputs": [
    {
     "name": "stdout",
     "output_type": "stream",
     "text": [
      "Transcription: tʃɛnjuɑɹin\n"
     ]
    }
   ],
   "source": [
    "print(\"Transcription:\", model(\"./audio_files/tly.ogg\").get(\"text\", \"\"))"
   ]
  },
  {
   "cell_type": "code",
   "execution_count": 4,
   "id": "6fa8e696",
   "metadata": {},
   "outputs": [
    {
     "name": "stdout",
     "output_type": "stream",
     "text": [
      "Transcription: dʒænjuwɛɹi\n"
     ]
    }
   ],
   "source": [
    "print(\"Transcription:\", model(\"./audio_files/word_january.mp3\").get(\"text\", \"\"))"
   ]
  },
  {
   "cell_type": "code",
   "execution_count": null,
   "id": "a62f939c",
   "metadata": {},
   "outputs": [
    {
     "name": "stdout",
     "output_type": "stream",
     "text": [
      "Transcription: dʒænjuɛɹi\n"
     ]
    }
   ],
   "source": [
    "print(\"Transcription:\", model(\"./audio_files/january_tyan1.ogg\").get(\"text\", \"\"))"
   ]
  },
  {
   "cell_type": "code",
   "execution_count": null,
   "id": "d133bfad",
   "metadata": {},
   "outputs": [
    {
     "name": "stdout",
     "output_type": "stream",
     "text": [
      "Transcription: dʒænuɝɹi\n"
     ]
    }
   ],
   "source": [
    "print(\"Transcription:\", model(\"./audio_files/january_tyan2.ogg\").get(\"text\", \"\"))"
   ]
  },
  {
   "cell_type": "code",
   "execution_count": null,
   "id": "06589ad2",
   "metadata": {},
   "outputs": [
    {
     "name": "stdout",
     "output_type": "stream",
     "text": [
      "Transcription: ɛnudɹi\n"
     ]
    }
   ],
   "source": [
    "print(\"Transcription:\", model(\"./audio_files/january_tyan3.ogg\").get(\"text\", \"\"))"
   ]
  },
  {
   "cell_type": "code",
   "execution_count": null,
   "id": "a9b3cf84",
   "metadata": {},
   "outputs": [
    {
     "name": "stdout",
     "output_type": "stream",
     "text": [
      "Transcription: dʒɛnɹi\n"
     ]
    }
   ],
   "source": [
    "print(\"Transcription:\", model(\"./audio_files/january_tyan4.ogg\").get(\"text\", \"\"))"
   ]
  },
  {
   "cell_type": "code",
   "execution_count": null,
   "id": "e15ac661",
   "metadata": {},
   "outputs": [
    {
     "name": "stdout",
     "output_type": "stream",
     "text": [
      "Transcription: tʃæɹuɝi\n"
     ]
    }
   ],
   "source": [
    "print(\"Transcription:\", model(\"./audio_files/january_tyan5.ogg\").get(\"text\", \"\"))"
   ]
  },
  {
   "cell_type": "code",
   "execution_count": null,
   "id": "5d0e1118",
   "metadata": {},
   "outputs": [
    {
     "name": "stdout",
     "output_type": "stream",
     "text": [
      "Transcription: tʃeɪnnoʊdɝɹi\n"
     ]
    }
   ],
   "source": [
    "print(\"Transcription:\", model(\"./audio_files/january_tyan6.ogg\").get(\"text\", \"\"))"
   ]
  },
  {
   "cell_type": "code",
   "execution_count": 28,
   "id": "990b6495",
   "metadata": {},
   "outputs": [
    {
     "name": "stdout",
     "output_type": "stream",
     "text": [
      "Transcription: bʌtikʰɔləsɔl\n"
     ]
    }
   ],
   "source": [
    "print(\"Transcription:\", model(\"./audio_files/january_tyan12.ogg\").get(\"text\", \"\"))"
   ]
  },
  {
   "cell_type": "code",
   "execution_count": 29,
   "id": "3aef34fc",
   "metadata": {},
   "outputs": [
    {
     "name": "stdout",
     "output_type": "stream",
     "text": [
      "Transcription: oʊtʃikʰɔɹʌsɔ\n"
     ]
    }
   ],
   "source": [
    "print(\"Transcription:\", model(\"./audio_files/random_tyan1.ogg\").get(\"text\", \"\"))"
   ]
  },
  {
   "cell_type": "code",
   "execution_count": 27,
   "id": "05deffab",
   "metadata": {},
   "outputs": [
    {
     "name": "stdout",
     "output_type": "stream",
     "text": [
      "Transcription: dʒɛnjuɝdi\n"
     ]
    }
   ],
   "source": [
    "print(\"Transcription:\", model(\"./audio_files/january_hue.mp3\").get(\"text\", \"\"))"
   ]
  },
  {
   "cell_type": "code",
   "execution_count": null,
   "id": "59c74174",
   "metadata": {},
   "outputs": [
    {
     "name": "stdout",
     "output_type": "stream",
     "text": [
      "Transcription: zʌnjuadi\n"
     ]
    }
   ],
   "source": [
    "print(\"Transcription:\", model(\n",
    "    \"./audio_files/word_january_japan1.mp3\").get(\"text\", \"\"))"
   ]
  },
  {
   "cell_type": "code",
   "execution_count": null,
   "id": "7a74a467",
   "metadata": {},
   "outputs": [
    {
     "name": "stdout",
     "output_type": "stream",
     "text": [
      "Transcription: zɑmuɑɾi\n"
     ]
    }
   ],
   "source": [
    "print(\"Transcription:\", model(\n",
    "    \"./audio_files/word_january_japan2.mp3\").get(\"text\", \"\"))"
   ]
  },
  {
   "cell_type": "code",
   "execution_count": null,
   "id": "61d6b527",
   "metadata": {},
   "outputs": [
    {
     "name": "stdout",
     "output_type": "stream",
     "text": [
      "Transcription: ʒʌnwɑdi\n"
     ]
    }
   ],
   "source": [
    "print(\"Transcription:\", model(\n",
    "    \"./audio_files/word_january_japan3.mp3\").get(\"text\", \"\"))"
   ]
  },
  {
   "cell_type": "code",
   "execution_count": null,
   "id": "a9892ae8",
   "metadata": {},
   "outputs": [],
   "source": [
    "print(\"Transcription:\", model(\n",
    "    \"./audio_files/word_january_japan3.mp3\").get(\"text\", \"\"))"
   ]
  },
  {
   "cell_type": "code",
   "execution_count": null,
   "id": "2dfe4eb7",
   "metadata": {},
   "outputs": [
    {
     "name": "stdout",
     "output_type": "stream",
     "text": [
      "Transcription: hɛloʊθʰaɪɛnaɪsθʰumitjuəɡɛn\n"
     ]
    }
   ],
   "source": [
    "print(\"Transcription:\", model(\"./audio_files/audio_06.mp3\").get(\"text\", \"\"))"
   ]
  },
  {
   "cell_type": "code",
   "execution_count": null,
   "id": "11a9bfed",
   "metadata": {},
   "outputs": [
    {
     "name": "stdout",
     "output_type": "stream",
     "text": [
      "Transcription: hɛloʊtaɪɛnnaɪstɪmitjuʌɡɛn\n"
     ]
    }
   ],
   "source": [
    "print(\"Transcription:\", model(\"./audio_files/audio_01.mp3\").get(\"text\", \"\"))"
   ]
  },
  {
   "cell_type": "code",
   "execution_count": null,
   "id": "4d0eb838",
   "metadata": {},
   "outputs": [
    {
     "name": "stdout",
     "output_type": "stream",
     "text": [
      "Transcription: baɪannaɪtwiɡoʊəɡɛn\n"
     ]
    }
   ],
   "source": [
    "print(\"Transcription:\", model(\"./audio_files/audio_05.mp3\").get(\"text\", \"\"))"
   ]
  },
  {
   "cell_type": "code",
   "execution_count": null,
   "id": "ed85795f",
   "metadata": {},
   "outputs": [
    {
     "name": "stdout",
     "output_type": "stream",
     "text": [
      "Transcription: hɑdɔtiminaɪstumitɔjuɑɡeɪn\n"
     ]
    }
   ],
   "source": [
    "print(\"Transcription:\", model(\"./audio_files/audio_japan_wrong.mp3\").get(\"text\", \"\"))"
   ]
  },
  {
   "cell_type": "code",
   "execution_count": null,
   "id": "9d200a36",
   "metadata": {},
   "outputs": [
    {
     "name": "stdout",
     "output_type": "stream",
     "text": [
      "Transcription: hjulʊtɛnaɪstʊmitjuəɡɛn\n"
     ]
    }
   ],
   "source": [
    "print(\"Transcription:\", model(\"./audio_files/audio_russian.mp3\").get(\"text\", \"\"))"
   ]
  },
  {
   "cell_type": "code",
   "execution_count": null,
   "id": "19fdd6ff",
   "metadata": {},
   "outputs": [
    {
     "name": "stdout",
     "output_type": "stream",
     "text": [
      "Transcription: joʊsʌpdʒoʊzoʊtoʊmɑsɛvɪtʃmɑɹtʃsɪkstinθnaɪntinoʊeɪtɑktoʊbɚfɪftinθnaɪntinnaɪnifɔɹsɚboʊkɹoʊeɪʃɪnjoʊsʌptoʊmɑʃɪvɪtʃwʌzɪnʌmɛɹɪkɪnikɑnʌmɪstɛnhɪstɔɹiɛnhuspɛʃl̩tiwʌzðiɛkɪnɑmɪkɛnsoʊʃl̩hɪstɚiʌvjuɡoʊslɑviʌ\n"
     ]
    }
   ],
   "source": [
    "print(\"Transcription:\", model(\"./audio_files/audio_16s.mp3\").get(\"text\", \"\"))"
   ]
  },
  {
   "cell_type": "code",
   "execution_count": null,
   "id": "c67a7a91",
   "metadata": {},
   "outputs": [
    {
     "name": "stdout",
     "output_type": "stream",
     "text": [
      "Transcription: mɑɹtʃ\n"
     ]
    }
   ],
   "source": [
    "print(\"Transcription:\", model(\"./audio_files/word_march.mp3\").get(\"text\", \"\"))"
   ]
  },
  {
   "cell_type": "code",
   "execution_count": 2,
   "id": "745e0cc6",
   "metadata": {},
   "outputs": [
    {
     "name": "stdout",
     "output_type": "stream",
     "text": [
      "['tʃɛnjuɑɹin']\n",
      "[[('tʃ', 0.5039244186046512, 0.5240813953488372), ('ɛ', 0.5643953488372093, 0.5845523255813954), ('n', 0.7659651162790698, 0.8062790697674419), ('j', 0.8062790697674419, 0.8264360465116279), ('u', 0.846593023255814, 0.86675), ('ɑ', 1.0481627906976745, 1.0683197674418605), ('ɹ', 1.2497325581395349, 1.269889534883721), ('i', 1.290046511627907, 1.310203488372093), ('n', 1.4714593023255813, 1.4916162790697673)]]\n"
     ]
    }
   ],
   "source": [
    "import torch\n",
    "import librosa\n",
    "import soundfile as sf\n",
    "from transformers import AutoProcessor, AutoModelForCTC\n",
    "\n",
    "device = (\n",
    "    \"cuda\"\n",
    "    if torch.cuda.is_available()\n",
    "    else \"mps\" if torch.backends.mps.is_available() else \"cpu\"\n",
    ")\n",
    "model_id = \"KoelLabs/xlsr-english-01\"\n",
    "processor = AutoProcessor.from_pretrained(model_id)\n",
    "model = AutoModelForCTC.from_pretrained(model_id).to(device)\n",
    "\n",
    "array, sample_rate = sf.read(\"./audio_files/tly.ogg\")\n",
    "array = librosa.resample(array, orig_sr=sample_rate,\n",
    "                         target_sr=processor.feature_extractor.sampling_rate)\n",
    "batch = [array]\n",
    "\n",
    "input_values = (\n",
    "    processor(\n",
    "        batch,\n",
    "        sampling_rate=processor.feature_extractor.sampling_rate,\n",
    "        return_tensors=\"pt\",\n",
    "        padding=True,\n",
    "    )\n",
    "    .input_values.type(torch.float32)\n",
    "    .to(model.device)\n",
    ")\n",
    "with torch.no_grad():\n",
    "    logits = model(input_values).logits\n",
    "predicted_ids_batch = torch.argmax(logits, dim=-1)\n",
    "transcription_batch = [processor.decode(ids) for ids in predicted_ids_batch]\n",
    "\n",
    "# get the start and end timestamp for each phoneme\n",
    "phonemes_with_time_batch = []\n",
    "for predicted_ids in predicted_ids_batch:\n",
    "    predicted_ids = predicted_ids.tolist()\n",
    "    duration_sec = input_values.shape[1] / \\\n",
    "        processor.feature_extractor.sampling_rate\n",
    "\n",
    "    ids_w_time = [\n",
    "        (i / len(predicted_ids) * duration_sec, _id)\n",
    "        for i, _id in enumerate(predicted_ids)\n",
    "    ]\n",
    "\n",
    "    current_phoneme_id = processor.tokenizer.pad_token_id\n",
    "    current_start_time = 0\n",
    "    phonemes_with_time = []\n",
    "    for time, _id in ids_w_time:\n",
    "        if current_phoneme_id != _id:\n",
    "            if current_phoneme_id != processor.tokenizer.pad_token_id:\n",
    "                phonemes_with_time.append(\n",
    "                    (processor.decode(current_phoneme_id), current_start_time, time)\n",
    "                )\n",
    "            current_start_time = time\n",
    "            current_phoneme_id = _id\n",
    "\n",
    "    phonemes_with_time_batch.append(phonemes_with_time)\n",
    "\n",
    "print(transcription_batch)\n",
    "print(phonemes_with_time_batch)"
   ]
  }
 ],
 "metadata": {
  "kernelspec": {
   "display_name": "xlsr-env",
   "language": "python",
   "name": "python3"
  },
  "language_info": {
   "codemirror_mode": {
    "name": "ipython",
    "version": 3
   },
   "file_extension": ".py",
   "mimetype": "text/x-python",
   "name": "python",
   "nbconvert_exporter": "python",
   "pygments_lexer": "ipython3",
   "version": "3.12.8"
  }
 },
 "nbformat": 4,
 "nbformat_minor": 5
}
